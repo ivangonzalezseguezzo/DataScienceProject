{
 "cells": [
  {
   "cell_type": "markdown",
   "id": "bf021d2f",
   "metadata": {},
   "source": [
    "# TERCERA ENTREGA DEL PROYECTO FINAL 💻\n",
    "\n",
    "- Curso: Data Science\n",
    "\n",
    "- Comisión: 22740\n",
    "\n",
    "- Profesor: Luca Cittá Giordano\n",
    "\n",
    "- Tutor: Juan Felipe Gonzalez Sanmiguel\n",
    "\n",
    "- Fecha: 17/3/2022\n",
    "\n",
    "## Equipo de trabajo\n",
    "\n",
    "- Germán Hilgert\n",
    "- Iván González Seguezzo\n",
    "- José Nardulli\n"
   ]
  },
  {
   "cell_type": "markdown",
   "id": "f1715e2f",
   "metadata": {},
   "source": [
    "## Problemática:\n",
    "basado en las anteriores entregas y ya resuelto las problematicas propuestas, se tomara esta entrega para realizar evaluaciones sobre algunos de los procesos utilizados y como se podria mejorar su eficiencia o eficacia de ser posible.\n",
    "\n",
    "## Objetivos Generales:\n",
    "evaluar las metodologias usadas anteriormente para definir los tiempos y la eficacia generar y investigar si las mismas pueden ser mejoradas usando diferentes tecnicas aumentar la eficiencia y/o eficacion \n",
    "\n",
    "## Objetivos especificos:\n",
    "Evaluar el Random Forest Classifier y la regresion simple usando validaciones simples en el modelo de entrenamiento y luego revisarlo aplicando validaciones cruzadas \n",
    "\n",
    "Evaluar el indice de correlacion para revisar si es posible filtrar a traves de los mejores inidice y realizar una regresion linear mas eficas y eficiente\n",
    "\n",
    "Revisar que otros modelos de boosting pudieran ser aplicados \n",
    "\n",
    "### Ver PDF anexo: Documento Ejecutivo"
   ]
  },
  {
   "cell_type": "markdown",
   "id": "75bda667",
   "metadata": {},
   "source": [
    "# IMPORTE DE LIBRERIAS"
   ]
  },
  {
   "cell_type": "code",
   "execution_count": 1,
   "id": "5851f6ed",
   "metadata": {},
   "outputs": [],
   "source": [
    "#Numpy y pandas para recoleccion y manejos de de datos\n",
    "from numpy import mean\n",
    "from numpy import std\n",
    "import pandas as pd\n",
    "#Sklear para aplicaciones de modelos de clasificacion y ML\n",
    "from sklearn.model_selection import LeaveOneOut\n",
    "from sklearn.model_selection import cross_val_score\n",
    "from sklearn.ensemble import RandomForestClassifier\n",
    "from sklearn.model_selection import train_test_split\n",
    "from sklearn.preprocessing import MinMaxScaler\n",
    "from sklearn.decomposition import PCA\n",
    "from sklearn.preprocessing import MinMaxScaler\n",
    "import numpy as np # linear algebra\n",
    "import pandas as pd # data processing, CSV file I/O (e.g. pd.read_csv)\n",
    "from sklearn import datasets\n",
    "from sklearn.model_selection import train_test_split\n",
    "from sklearn.neighbors import KNeighborsClassifier\n",
    "import seaborn as sns\n",
    "sns.set()\n",
    "import matplotlib.pyplot as plt\n",
    "import os\n",
    "#Importacion de las librerias\n",
    "from numpy import mean\n",
    "from numpy import std\n",
    "from numpy import absolute\n",
    "from pandas import read_csv\n",
    "from sklearn.model_selection import LeaveOneOut\n",
    "from sklearn.model_selection import cross_val_score\n",
    "from sklearn.ensemble import RandomForestRegressor\n",
    "from sklearn.metrics import mean_absolute_error"
   ]
  },
  {
   "cell_type": "markdown",
   "id": "a92dc325",
   "metadata": {},
   "source": [
    "# CARGA DEL DATASET"
   ]
  },
  {
   "cell_type": "code",
   "execution_count": 3,
   "id": "67842607",
   "metadata": {
    "scrolled": true
   },
   "outputs": [
    {
     "data": {
      "text/html": [
       "<div>\n",
       "<style scoped>\n",
       "    .dataframe tbody tr th:only-of-type {\n",
       "        vertical-align: middle;\n",
       "    }\n",
       "\n",
       "    .dataframe tbody tr th {\n",
       "        vertical-align: top;\n",
       "    }\n",
       "\n",
       "    .dataframe thead th {\n",
       "        text-align: right;\n",
       "    }\n",
       "</style>\n",
       "<table border=\"1\" class=\"dataframe\">\n",
       "  <thead>\n",
       "    <tr style=\"text-align: right;\">\n",
       "      <th></th>\n",
       "      <th>MS SubClass</th>\n",
       "      <th>MS Zoning</th>\n",
       "      <th>Lot Frontage</th>\n",
       "      <th>Lot Area</th>\n",
       "      <th>Street</th>\n",
       "      <th>Lot Shape</th>\n",
       "      <th>Land Contour</th>\n",
       "      <th>Utilities</th>\n",
       "      <th>Lot Config</th>\n",
       "      <th>Land Slope</th>\n",
       "      <th>...</th>\n",
       "      <th>Enclosed Porch</th>\n",
       "      <th>3Ssn Porch</th>\n",
       "      <th>Screen Porch</th>\n",
       "      <th>Pool Area</th>\n",
       "      <th>Misc Val</th>\n",
       "      <th>Mo Sold</th>\n",
       "      <th>Yr Sold</th>\n",
       "      <th>Sale Type</th>\n",
       "      <th>Sale Condition</th>\n",
       "      <th>SalePrice</th>\n",
       "    </tr>\n",
       "  </thead>\n",
       "  <tbody>\n",
       "    <tr>\n",
       "      <th>878</th>\n",
       "      <td>20</td>\n",
       "      <td>RL</td>\n",
       "      <td>63.0</td>\n",
       "      <td>8487</td>\n",
       "      <td>Pave</td>\n",
       "      <td>Reg</td>\n",
       "      <td>Lvl</td>\n",
       "      <td>AllPub</td>\n",
       "      <td>FR2</td>\n",
       "      <td>Gtl</td>\n",
       "      <td>...</td>\n",
       "      <td>0</td>\n",
       "      <td>0</td>\n",
       "      <td>0</td>\n",
       "      <td>0</td>\n",
       "      <td>0</td>\n",
       "      <td>8</td>\n",
       "      <td>2009</td>\n",
       "      <td>WD</td>\n",
       "      <td>Normal</td>\n",
       "      <td>190000</td>\n",
       "    </tr>\n",
       "    <tr>\n",
       "      <th>547</th>\n",
       "      <td>60</td>\n",
       "      <td>RL</td>\n",
       "      <td>70.0</td>\n",
       "      <td>9109</td>\n",
       "      <td>Pave</td>\n",
       "      <td>Reg</td>\n",
       "      <td>Lvl</td>\n",
       "      <td>AllPub</td>\n",
       "      <td>Inside</td>\n",
       "      <td>Gtl</td>\n",
       "      <td>...</td>\n",
       "      <td>0</td>\n",
       "      <td>0</td>\n",
       "      <td>0</td>\n",
       "      <td>0</td>\n",
       "      <td>0</td>\n",
       "      <td>10</td>\n",
       "      <td>2009</td>\n",
       "      <td>WD</td>\n",
       "      <td>Normal</td>\n",
       "      <td>184000</td>\n",
       "    </tr>\n",
       "    <tr>\n",
       "      <th>2268</th>\n",
       "      <td>90</td>\n",
       "      <td>RL</td>\n",
       "      <td>100.0</td>\n",
       "      <td>25000</td>\n",
       "      <td>Pave</td>\n",
       "      <td>Reg</td>\n",
       "      <td>Low</td>\n",
       "      <td>AllPub</td>\n",
       "      <td>Inside</td>\n",
       "      <td>Gtl</td>\n",
       "      <td>...</td>\n",
       "      <td>0</td>\n",
       "      <td>0</td>\n",
       "      <td>0</td>\n",
       "      <td>0</td>\n",
       "      <td>0</td>\n",
       "      <td>6</td>\n",
       "      <td>2007</td>\n",
       "      <td>WD</td>\n",
       "      <td>Normal</td>\n",
       "      <td>143000</td>\n",
       "    </tr>\n",
       "    <tr>\n",
       "      <th>1736</th>\n",
       "      <td>20</td>\n",
       "      <td>RL</td>\n",
       "      <td>53.0</td>\n",
       "      <td>3710</td>\n",
       "      <td>Pave</td>\n",
       "      <td>Reg</td>\n",
       "      <td>Lvl</td>\n",
       "      <td>AllPub</td>\n",
       "      <td>Inside</td>\n",
       "      <td>Gtl</td>\n",
       "      <td>...</td>\n",
       "      <td>0</td>\n",
       "      <td>0</td>\n",
       "      <td>0</td>\n",
       "      <td>0</td>\n",
       "      <td>0</td>\n",
       "      <td>8</td>\n",
       "      <td>2007</td>\n",
       "      <td>New</td>\n",
       "      <td>Partial</td>\n",
       "      <td>185485</td>\n",
       "    </tr>\n",
       "    <tr>\n",
       "      <th>1771</th>\n",
       "      <td>20</td>\n",
       "      <td>RL</td>\n",
       "      <td>116.0</td>\n",
       "      <td>13501</td>\n",
       "      <td>Pave</td>\n",
       "      <td>IR1</td>\n",
       "      <td>Lvl</td>\n",
       "      <td>AllPub</td>\n",
       "      <td>Corner</td>\n",
       "      <td>Gtl</td>\n",
       "      <td>...</td>\n",
       "      <td>0</td>\n",
       "      <td>0</td>\n",
       "      <td>0</td>\n",
       "      <td>0</td>\n",
       "      <td>0</td>\n",
       "      <td>6</td>\n",
       "      <td>2007</td>\n",
       "      <td>WD</td>\n",
       "      <td>Normal</td>\n",
       "      <td>255000</td>\n",
       "    </tr>\n",
       "    <tr>\n",
       "      <th>1268</th>\n",
       "      <td>50</td>\n",
       "      <td>RL</td>\n",
       "      <td>60.0</td>\n",
       "      <td>8064</td>\n",
       "      <td>Pave</td>\n",
       "      <td>Reg</td>\n",
       "      <td>Lvl</td>\n",
       "      <td>AllPub</td>\n",
       "      <td>Inside</td>\n",
       "      <td>Gtl</td>\n",
       "      <td>...</td>\n",
       "      <td>0</td>\n",
       "      <td>0</td>\n",
       "      <td>0</td>\n",
       "      <td>0</td>\n",
       "      <td>0</td>\n",
       "      <td>9</td>\n",
       "      <td>2008</td>\n",
       "      <td>WD</td>\n",
       "      <td>Normal</td>\n",
       "      <td>138000</td>\n",
       "    </tr>\n",
       "  </tbody>\n",
       "</table>\n",
       "<p>6 rows × 76 columns</p>\n",
       "</div>"
      ],
      "text/plain": [
       "      MS SubClass MS Zoning  Lot Frontage  Lot Area Street Lot Shape  \\\n",
       "878            20        RL          63.0      8487   Pave       Reg   \n",
       "547            60        RL          70.0      9109   Pave       Reg   \n",
       "2268           90        RL         100.0     25000   Pave       Reg   \n",
       "1736           20        RL          53.0      3710   Pave       Reg   \n",
       "1771           20        RL         116.0     13501   Pave       IR1   \n",
       "1268           50        RL          60.0      8064   Pave       Reg   \n",
       "\n",
       "     Land Contour Utilities Lot Config Land Slope  ... Enclosed Porch  \\\n",
       "878           Lvl    AllPub        FR2        Gtl  ...              0   \n",
       "547           Lvl    AllPub     Inside        Gtl  ...              0   \n",
       "2268          Low    AllPub     Inside        Gtl  ...              0   \n",
       "1736          Lvl    AllPub     Inside        Gtl  ...              0   \n",
       "1771          Lvl    AllPub     Corner        Gtl  ...              0   \n",
       "1268          Lvl    AllPub     Inside        Gtl  ...              0   \n",
       "\n",
       "     3Ssn Porch Screen Porch Pool Area Misc Val  Mo Sold  Yr Sold  Sale Type  \\\n",
       "878           0            0         0        0        8     2009        WD    \n",
       "547           0            0         0        0       10     2009        WD    \n",
       "2268          0            0         0        0        6     2007        WD    \n",
       "1736          0            0         0        0        8     2007        New   \n",
       "1771          0            0         0        0        6     2007        WD    \n",
       "1268          0            0         0        0        9     2008        WD    \n",
       "\n",
       "      Sale Condition SalePrice  \n",
       "878           Normal    190000  \n",
       "547           Normal    184000  \n",
       "2268          Normal    143000  \n",
       "1736         Partial    185485  \n",
       "1771          Normal    255000  \n",
       "1268          Normal    138000  \n",
       "\n",
       "[6 rows x 76 columns]"
      ]
     },
     "execution_count": 3,
     "metadata": {},
     "output_type": "execute_result"
    }
   ],
   "source": [
    "df = pd.read_csv(\"Ames_Housing_filtrado.csv\")\n",
    "df = df.drop('PID', axis=1)\n",
    "df.sample(6)"
   ]
  },
  {
   "cell_type": "code",
   "execution_count": 4,
   "id": "82654f83",
   "metadata": {},
   "outputs": [],
   "source": [
    "#Obtención de distintos DataFrames\n",
    "df_num= df.select_dtypes(exclude='object')\n",
    "\n",
    "#Definición de X e y\n",
    "X = df_num.drop('SalePrice', axis=1)\n",
    "y = df_num['SalePrice']"
   ]
  },
  {
   "cell_type": "markdown",
   "id": "85369a6d",
   "metadata": {},
   "source": [
    "### Validacion simple sin PCA para Random Forest"
   ]
  },
  {
   "cell_type": "code",
   "execution_count": 56,
   "id": "411b12bf",
   "metadata": {},
   "outputs": [
    {
     "name": "stdout",
     "output_type": "stream",
     "text": [
      "Con validaciones simples se obtiene una eficacia de 0.023319615912208505\n",
      "con una eficiencia medida en segundos de: \n",
      "Wall time: 1.27 s\n"
     ]
    }
   ],
   "source": [
    "%%time\n",
    "#Random Forest\n",
    "model = RandomForestClassifier(random_state=1, max_depth = 5)\n",
    "X_train, X_test, y_train, y_test = train_test_split(X, y, random_state=32)\n",
    "model.fit(X_train, y_train)\n",
    "print('Con validaciones simples se obtiene una eficacia de '+ str(model.score(X_test, y_test)))\n",
    "print('con una eficiencia medida en segundos de: ')"
   ]
  },
  {
   "cell_type": "markdown",
   "id": "6dd1aca5",
   "metadata": {},
   "source": [
    "### Validacion Cruzada LOOCV sin PCA para Random Forest"
   ]
  },
  {
   "cell_type": "code",
   "execution_count": 64,
   "id": "9ae417cd",
   "metadata": {},
   "outputs": [
    {
     "name": "stdout",
     "output_type": "stream",
     "text": [
      "Accuracy: 0.022 (0.147)\n",
      "Con validaciones simples se obtiene una eficacia de + 0.022 (0.147)\n",
      "con una eficiencia medida en segundos de: \n",
      "Wall time: 9min 3s\n"
     ]
    }
   ],
   "source": [
    "%%time\n",
    "#Creamos el modelo \n",
    "cv = LeaveOneOut()\n",
    "#Random Forest\n",
    "model = RandomForestClassifier(random_state=1,max_depth=5)\n",
    "# Evaluacion del Modelo\n",
    "scores = cross_val_score(model, X, y, scoring='accuracy', cv=cv, n_jobs=-1)\n",
    "print('Accuracy: %.3f (%.3f)' % (mean(scores), std(scores)))\n",
    "print('Con validaciones cruzadas se obtiene una eficacia de + %.3f (%.3f)' % (mean(scores), std(scores)))\n",
    "print('con una eficiencia medida en segundos de: ')"
   ]
  },
  {
   "cell_type": "markdown",
   "id": "841506bd",
   "metadata": {},
   "source": [
    "### Conclusiones\n",
    "Se puede observar que la eficiencia queda muy aumenta trabajando en una profundida de algoritmos limitadas solo a 5 solo se obtienes resultados a partir de los 9 minutos y la efacia no aumenta de forma notable, quizas si fuera posuble aumentar o no limitar la profundida de los algoritmos se tendria una eficacia mas notable. \n",
    "\n",
    "Pero para esto convendria revisar si es posible aplicar un PCA primero para revisar si la eficacia se ve muy afectada"
   ]
  },
  {
   "cell_type": "markdown",
   "id": "e7b04120",
   "metadata": {},
   "source": [
    "### Se aplica PCA"
   ]
  },
  {
   "cell_type": "code",
   "execution_count": null,
   "id": "daf512a3",
   "metadata": {},
   "outputs": [],
   "source": [
    "# aplico PCA para Random Forest (RF)\n",
    "pcaRF = PCA()\n",
    "X_new_RF = pcaRF.fit_transform(X)\n",
    "explained_variance= pcaRF.explained_variance_ratio_\n",
    "pcaRF=PCA(n_components=3)\n",
    "X_new_RF=pcaRF.fit_transform(X)"
   ]
  },
  {
   "cell_type": "markdown",
   "id": "174ab8d2",
   "metadata": {},
   "source": [
    "### Validacion simple con PCA para Random Forest"
   ]
  },
  {
   "cell_type": "code",
   "execution_count": 66,
   "id": "60d004dd",
   "metadata": {},
   "outputs": [
    {
     "name": "stdout",
     "output_type": "stream",
     "text": [
      "Con validaciones simples se obtiene una eficacia de 0.011428571428571429\n",
      "con una eficiencia medida en segundos de: \n",
      "Wall time: 1.15 s\n"
     ]
    }
   ],
   "source": [
    "%%time\n",
    "# defino variables de entrenamiento y test (validacion simple)\n",
    "X_train_new_RF, X_test_new_RF, y_train_RF, y_test_RF = train_test_split(X_new_RF, y, test_size = 0.3, random_state=20,)\n",
    "\n",
    "#aplico random forest\n",
    "model = RandomForestClassifier(random_state=1, max_depth = 5)\n",
    "model.fit(X_train_new_RF, y_train_RF)\n",
    "print('Con validaciones simples se obtiene una eficacia de '+ str(model.score(X_test_new_RF, y_test_RF)))\n",
    "print('con una eficiencia medida en segundos de: ')"
   ]
  },
  {
   "cell_type": "markdown",
   "id": "1839796c",
   "metadata": {},
   "source": [
    "### Validacion cruzada LOOCV sin PCA para Random Forest"
   ]
  },
  {
   "cell_type": "code",
   "execution_count": 67,
   "id": "804ae17a",
   "metadata": {},
   "outputs": [
    {
     "name": "stdout",
     "output_type": "stream",
     "text": [
      "Accuracy: 0.011 (0.104)\n",
      "Con validaciones simples se obtiene una eficacia de + 0.011 (0.104)\n",
      "con una eficiencia medida en segundos de: \n",
      "Wall time: 9min\n"
     ]
    }
   ],
   "source": [
    "%%time\n",
    "#Creamos el modelo \n",
    "cv = LeaveOneOut()\n",
    "#Random Forest\n",
    "model = RandomForestClassifier(random_state=1,max_depth=5)\n",
    "# Evaluacion del Modelo\n",
    "scores = cross_val_score(model, X_new_RF, y, scoring='accuracy', cv=cv, n_jobs=-1)\n",
    "print('Accuracy: %.3f (%.3f)' % (mean(scores), std(scores)))\n",
    "print('Con validaciones cruzadas se obtiene una eficacia de + %.3f (%.3f)' % (mean(scores), std(scores)))\n",
    "print('con una eficiencia medida en segundos de: ')"
   ]
  },
  {
   "cell_type": "markdown",
   "id": "4adddc59",
   "metadata": {},
   "source": [
    "## Conclusiones\n",
    "aplicar validaciones cruzadas con Randon forest no mejora en lo absoluto la eficacia del modelo y aun peor ahce que la eficiencia del mismo desmejore muchisimo haciendo que sea imposible buscar mejoras a traves de este modelo "
   ]
  },
  {
   "cell_type": "markdown",
   "id": "00be6311",
   "metadata": {},
   "source": [
    "## Comparacion de KNN \n",
    "\n",
    "se evaluara el algorithmo de clasificacion de KNN con validaciones simples y cruzadas antes y despues de aplicar PCA para evaluar si surgen cambios en la eficiencia"
   ]
  },
  {
   "cell_type": "markdown",
   "id": "a72cbe20",
   "metadata": {},
   "source": [
    "### Validacion simple sin PCA para KNN"
   ]
  },
  {
   "cell_type": "code",
   "execution_count": 68,
   "id": "c1e7d804",
   "metadata": {},
   "outputs": [],
   "source": [
    "scaler = MinMaxScaler()\n",
    "X=scaler.fit_transform(X)"
   ]
  },
  {
   "cell_type": "code",
   "execution_count": 69,
   "id": "2ce7ffa6",
   "metadata": {},
   "outputs": [],
   "source": [
    "X_train, X_test, y_train, y_test = train_test_split(X, y, test_size = 0.3, random_state=20)"
   ]
  },
  {
   "cell_type": "code",
   "execution_count": 73,
   "id": "6f1baa95",
   "metadata": {},
   "outputs": [
    {
     "name": "stdout",
     "output_type": "stream",
     "text": [
      "Eficacia de Train con validaciones simples  0.11954924056834886 %\n",
      "Eficacia de Test con validaciones simples 0.005714285714285714 %\n",
      "con una eficiencia medida en segundos de: \n",
      "Wall time: 232 ms\n"
     ]
    }
   ],
   "source": [
    "%%time\n",
    "knn = KNeighborsClassifier(7)\n",
    "knn.fit(X_train,y_train)\n",
    "print(\"Eficacia de Train con validaciones simples \",knn.score(X_train,y_train),\"%\")\n",
    "print(\"Eficacia de Test con validaciones simples\",knn.score(X_test,y_test),\"%\")\n",
    "print('con una eficiencia medida en segundos de: ')"
   ]
  },
  {
   "cell_type": "markdown",
   "id": "59e0cb84",
   "metadata": {},
   "source": [
    "### Validacion Cruzada LOOCV sin PCA para KNN"
   ]
  },
  {
   "cell_type": "code",
   "execution_count": 75,
   "id": "9f5083ef",
   "metadata": {},
   "outputs": [
    {
     "name": "stdout",
     "output_type": "stream",
     "text": [
      "Accuracy: 0.008 (0.088)\n",
      "Con validaciones cruzadas se obtiene una eficacia de + 0.008 (0.088)\n",
      "con una eficiencia medida en segundos de: \n",
      "Wall time: 2.05 s\n"
     ]
    }
   ],
   "source": [
    "%%time\n",
    "#Creamos el modelo \n",
    "cv = LeaveOneOut()\n",
    "# Evaluacion del Modelo\n",
    "model = KNeighborsClassifier(7)\n",
    "scores = cross_val_score(model, X, y, scoring='accuracy', cv=cv, n_jobs=-1)\n",
    "print('Accuracy: %.3f (%.3f)' % (mean(scores), std(scores)))\n",
    "print('Con validaciones cruzadas se obtiene una eficacia de + %.3f (%.3f)' % (mean(scores), std(scores)))\n",
    "print('con una eficiencia medida en segundos de: ')"
   ]
  },
  {
   "cell_type": "markdown",
   "id": "eae643cf",
   "metadata": {},
   "source": [
    "## Conclusiones\n",
    "se observa de nuevo una enorme reduccion de la eficiencia pero en este caso la eficacia del modelo se ve ampliamente reducida"
   ]
  },
  {
   "cell_type": "markdown",
   "id": "9a625c4f",
   "metadata": {},
   "source": [
    "## Aplicando PCA"
   ]
  },
  {
   "cell_type": "code",
   "execution_count": 88,
   "id": "caeb2940",
   "metadata": {},
   "outputs": [],
   "source": [
    "#se aplica PCA\n",
    "pcaKNN = PCA()\n",
    "X_new_KNN = pcaKNN.fit_transform(X)\n",
    "explained_variance=pcaKNN.explained_variance_ratio_\n",
    "pcaKNN=PCA(n_components=36)\n",
    "X_new_KNN=pcaKNN.fit_transform(X)"
   ]
  },
  {
   "cell_type": "markdown",
   "id": "9c6ba84c",
   "metadata": {},
   "source": [
    "### Validacion simple con PCA para KNN"
   ]
  },
  {
   "cell_type": "code",
   "execution_count": 89,
   "id": "b31b2cf3",
   "metadata": {},
   "outputs": [
    {
     "name": "stdout",
     "output_type": "stream",
     "text": [
      "Eficacia de Train con validaciones simples  0.0004899559039686428 %\n",
      "Eficacia de Test con validaciones simples 0.0 %\n",
      "con una eficiencia medida en segundos de: \n",
      "Wall time: 219 ms\n"
     ]
    }
   ],
   "source": [
    "%%time\n",
    "#aplicamos KNN con nuestros grupos de train y test pasado por PCA \n",
    "X_train_new, X_test_new, y_train, y_test = train_test_split(X_new_KNN, y, test_size = 0.3, random_state=20,)\n",
    "knn_pca = KNeighborsClassifier(7)\n",
    "knn_pca.fit(X_train_new,y_train)\n",
    "print(\"Eficacia de Train con validaciones simples \",knn.score(X_train_new,y_train),\"%\")\n",
    "print(\"Eficacia de Test con validaciones simples\",knn.score(X_test_new,y_test),\"%\")\n",
    "print('con una eficiencia medida en segundos de: ')"
   ]
  },
  {
   "cell_type": "markdown",
   "id": "c7f2430c",
   "metadata": {},
   "source": [
    "### Validacion cruzada LOOCV con PCA para KNN"
   ]
  },
  {
   "cell_type": "code",
   "execution_count": 91,
   "id": "be7e0283",
   "metadata": {},
   "outputs": [
    {
     "name": "stdout",
     "output_type": "stream",
     "text": [
      "Accuracy: 0.008 (0.088)\n",
      "Con validaciones cruzadas se obtiene una eficacia de + 0.008 (0.088)\n",
      "con una eficiencia medida en segundos de: \n",
      "Wall time: 4.42 s\n"
     ]
    }
   ],
   "source": [
    "%%time\n",
    "#Creamos el modelo \n",
    "cv = LeaveOneOut()\n",
    "# Evaluacion del Modelo\n",
    "model = KNeighborsClassifier(7)\n",
    "scores = cross_val_score(model, X_new_KNN, y, scoring='accuracy', cv=cv, n_jobs=-1)\n",
    "print('Accuracy: %.3f (%.3f)' % (mean(scores), std(scores)))\n",
    "print('Con validaciones cruzadas se obtiene una eficacia de + %.3f (%.3f)' % (mean(scores), std(scores)))\n",
    "print('con una eficiencia medida en segundos de: ')"
   ]
  },
  {
   "cell_type": "markdown",
   "id": "755323b6",
   "metadata": {},
   "source": [
    "## Conslusiones\n",
    "se observa que en una validacion simple con PCA la eficacia se ve altamente reducida mientras que la eficiencia permanece igual, a diferencia de la validacion cruzada donde ocurre basicamente lo opuesto, la eficacia se mantiene pero la eficiencia se reduce casi hasta la mitad"
   ]
  },
  {
   "cell_type": "markdown",
   "id": "67c332c6",
   "metadata": {},
   "source": [
    "### Validacion simple sin PCA para Regresion"
   ]
  },
  {
   "cell_type": "code",
   "execution_count": 5,
   "id": "4d646321",
   "metadata": {},
   "outputs": [
    {
     "name": "stdout",
     "output_type": "stream",
     "text": [
      "MAE: 19197.1302331639\n",
      "Wall time: 756 ms\n"
     ]
    }
   ],
   "source": [
    "%%time\n",
    "#Random Forest\n",
    "model = RandomForestRegressor(random_state=1,max_depth=5)\n",
    "X_train, X_test, y_train, y_test = train_test_split(X, y, random_state=60)\n",
    "model.fit(X_train, y_train)\n",
    "y_pred = model.predict(X_test)\n",
    "print(f'MAE: {mean_absolute_error(y_test, y_pred)}')"
   ]
  },
  {
   "cell_type": "markdown",
   "id": "842409ed",
   "metadata": {},
   "source": [
    "### Validacion cruzada con LOOCV sin PCA para Regresion"
   ]
  },
  {
   "cell_type": "code",
   "execution_count": 6,
   "id": "85332ab5",
   "metadata": {},
   "outputs": [
    {
     "name": "stdout",
     "output_type": "stream",
     "text": [
      "MAE: 19441.951142470432\n",
      "Wall time: 6min 15s\n"
     ]
    }
   ],
   "source": [
    "%%time\n",
    "# Creamos el modelo de LOOCV y rf\n",
    "cv = LeaveOneOut()\n",
    "model = RandomForestRegressor(random_state=1,max_depth=5)\n",
    "# Evaluacion del modelo\n",
    "scores = cross_val_score(model, X, y, scoring='neg_mean_absolute_error', cv=cv, n_jobs=-1)\n",
    "scores = absolute(scores)\n",
    "scores\n",
    "print(f'MAE: {mean(scores)}')"
   ]
  },
  {
   "cell_type": "markdown",
   "id": "65238109",
   "metadata": {},
   "source": [
    "## Conclusiones\n",
    "se puede observar que la eficacia del algoritmo no se ve casi afectada mientras que la eficiencia del procesamiento se ve enormemente reducida"
   ]
  },
  {
   "cell_type": "markdown",
   "id": "903a3f8b",
   "metadata": {},
   "source": [
    "## Aplicando PCA"
   ]
  },
  {
   "cell_type": "code",
   "execution_count": 8,
   "id": "6cdb6c95",
   "metadata": {},
   "outputs": [],
   "source": [
    "#se aplica PCA\n",
    "pcaRL = PCA()\n",
    "X_new_RL = pcaRL.fit_transform(X)\n",
    "explained_variance=pcaRL.explained_variance_ratio_\n",
    "pcaRL=PCA(n_components=36)\n",
    "X_new_RL=pcaRL.fit_transform(X)"
   ]
  },
  {
   "cell_type": "markdown",
   "id": "dea1891a",
   "metadata": {},
   "source": [
    "### Validacion simple con PCA para Regresion"
   ]
  },
  {
   "cell_type": "code",
   "execution_count": 9,
   "id": "b6a43fd7",
   "metadata": {},
   "outputs": [
    {
     "name": "stdout",
     "output_type": "stream",
     "text": [
      "MAE: 24098.192477361135\n",
      "Wall time: 1.77 s\n"
     ]
    }
   ],
   "source": [
    "%%time\n",
    "#Random Forest\n",
    "model = RandomForestRegressor(random_state=1,max_depth=5)\n",
    "X_train, X_test, y_train, y_test = train_test_split(X_new_RL, y, random_state=60)\n",
    "model.fit(X_train, y_train)\n",
    "y_pred = model.predict(X_test)\n",
    "print(f'MAE: {mean_absolute_error(y_test, y_pred)}')"
   ]
  },
  {
   "cell_type": "markdown",
   "id": "770cd11a",
   "metadata": {},
   "source": [
    "### Validacion cruzada con LOOCV con PCA para Regresion"
   ]
  },
  {
   "cell_type": "code",
   "execution_count": null,
   "id": "3d0954d9",
   "metadata": {},
   "outputs": [],
   "source": [
    "%%time\n",
    "# Creamos el modelo de LOOCV y rf\n",
    "cv = LeaveOneOut()\n",
    "model = RandomForestRegressor(random_state=1,max_depth=5)\n",
    "# Evaluacion del modelo\n",
    "scores = cross_val_score(model, X_new_RL, y, scoring='neg_mean_absolute_error', cv=cv, n_jobs=-1)\n",
    "scores = absolute(scores)\n",
    "scores\n",
    "print(f'MAE: {mean(scores)}')"
   ]
  },
  {
   "cell_type": "markdown",
   "id": "31d91c7b",
   "metadata": {},
   "source": [
    "## Conclusiones"
   ]
  }
 ],
 "metadata": {
  "kernelspec": {
   "display_name": "Python 3 (ipykernel)",
   "language": "python",
   "name": "python3"
  },
  "language_info": {
   "codemirror_mode": {
    "name": "ipython",
    "version": 3
   },
   "file_extension": ".py",
   "mimetype": "text/x-python",
   "name": "python",
   "nbconvert_exporter": "python",
   "pygments_lexer": "ipython3",
   "version": "3.9.5"
  }
 },
 "nbformat": 4,
 "nbformat_minor": 5
}
